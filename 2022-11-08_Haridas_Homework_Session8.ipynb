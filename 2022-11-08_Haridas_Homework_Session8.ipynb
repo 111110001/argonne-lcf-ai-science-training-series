{
 "cells": [
  {
   "cell_type": "markdown",
   "id": "7b034a37",
   "metadata": {},
   "source": [
    "# <center> Assignment 8 – Other AI Learning Methods (11/8/22)\n",
    "# <center> Submitted By: Haridas Das"
   ]
  },
  {
   "cell_type": "markdown",
   "id": "a7f9fad8",
   "metadata": {},
   "source": [
    "# Homework\n",
    "\n",
    "Submit a paragraph about:\n",
    "\n",
    "How could you use AI for a problem that interests you?\n",
    "What is the task?\n",
    "What kind of data would you use?\n",
    "What kind of method or model might be appropriate?\n",
    "What kind of metric would you use to measure success?\n",
    "Feel free to consult the Internet for ideas.\n",
    "\n",
    "This paragraph can be placed in a README in git and you can submit the link."
   ]
  },
  {
   "cell_type": "markdown",
   "id": "0dcac5be",
   "metadata": {},
   "source": [
    "A country's social and economic well-being may suffer due to disease outbreaks. As a result, a reliable prediction model with better prediction is required not only for the public health department but also for economic decision-makers. Therefore, a trustworthy prediction model of Epidemiology can minimize an epidemic's social and economic impacts on a country. Moreover, forecasting outbreaks are useful in prompting prevention policies and remedial action. Motivated by the rising trend of diseases, for example, COVID-19 and Monkeypox in recent times, we can forecast or detect those disease transmission using many deep learning models. But given the challenging nature of different diseases and their mutation, demand to use recent technological tools and artificial intelligence (AI) tools. For example, AI can be applied to COVID-19 and Monkepox detection, diagnosis, epidemiological predictions, forecasting, and social control for combating COVID-19 by tracking the coronavirus spread, identifying patients with high mortality risk, and diagnosing patients for the disease. AI-based systems have focused on predicting mortality rates, long-term patient hospitalization, and patient outcomes. Deep Learning (or Deep Neural Networks) and Convolutional Neural Networks (CNN) can be helpful for image processing and in diagnosing many diseases like Monkeypox. Moreover, we can use the convolutional neural network (CNN), the Long Short-Term Memory (LSTM) deep network model, and many hybrid deep learning models in time series analysis. Besides, many AI Modeling is also applicable in epidemiological situations.  In my opinion, AI's promising applications in Epidemiology are Detection or classification, Diagnosis, time series analysis,  and Epidemiology for Combating the disease.   \n",
    "\n",
    "# Data\n",
    "We can use continuous variables like daily reported rates, climate data, other characteristic attributes, time series data, image data, e.t.c. depending on the different research questions. "
   ]
  },
  {
   "cell_type": "code",
   "execution_count": null,
   "id": "db1318a1",
   "metadata": {},
   "outputs": [],
   "source": []
  }
 ],
 "metadata": {
  "kernelspec": {
   "display_name": "Python 3 (ipykernel)",
   "language": "python",
   "name": "python3"
  },
  "language_info": {
   "codemirror_mode": {
    "name": "ipython",
    "version": 3
   },
   "file_extension": ".py",
   "mimetype": "text/x-python",
   "name": "python",
   "nbconvert_exporter": "python",
   "pygments_lexer": "ipython3",
   "version": "3.7.4"
  }
 },
 "nbformat": 4,
 "nbformat_minor": 5
}
