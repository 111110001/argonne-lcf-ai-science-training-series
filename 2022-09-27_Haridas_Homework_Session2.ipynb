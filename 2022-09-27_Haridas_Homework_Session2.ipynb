{
 "cells": [
  {
   "cell_type": "markdown",
   "id": "nEWZdN-wMsb8",
   "metadata": {
    "id": "nEWZdN-wMsb8"
   },
   "source": [
    "# <center> Assignment 2 – Neural Networks using Python\n",
    "# <center> Submitted By: Haridas Das"
   ]
  },
  {
   "cell_type": "code",
   "execution_count": 24,
   "id": "3sA0lz2rM6JF",
   "metadata": {
    "colab": {
     "base_uri": "https://localhost:8080/"
    },
    "id": "3sA0lz2rM6JF",
    "outputId": "7e60fd7d-0964-4420-b02d-9e7928d4e8f1"
   },
   "outputs": [
    {
     "name": "stdout",
     "output_type": "stream",
     "text": [
      "The autoreload extension is already loaded. To reload it, use:\n",
      "  %reload_ext autoreload\n"
     ]
    }
   ],
   "source": [
    "%load_ext autoreload\n",
    "%autoreload 2"
   ]
  },
  {
   "cell_type": "code",
   "execution_count": null,
   "id": "ieV4aFYX7jPe",
   "metadata": {
    "colab": {
     "base_uri": "https://localhost:8080/"
    },
    "id": "ieV4aFYX7jPe",
    "outputId": "e8b807ff-bdec-48d6-d77b-4fd54e28cdee"
   },
   "outputs": [
    {
     "name": "stdout",
     "output_type": "stream",
     "text": [
      "Reading package lists... Done\n",
      "Building dependency tree       \n",
      "Reading state information... Done\n",
      "python3.7 is already the newest version (3.7.15-1+bionic1).\n",
      "The following package was automatically installed and is no longer required:\n",
      "  libnvidia-common-460\n",
      "Use 'apt autoremove' to remove it.\n",
      "0 upgraded, 0 newly installed, 0 to remove and 5 not upgraded.\n"
     ]
    }
   ],
   "source": [
    "# Install the python version\n",
    "#!apt-get install python3.7\n",
    "\n",
    "# Select the version\n",
    "#!python3.7 setup.py"
   ]
  },
  {
   "cell_type": "code",
   "execution_count": 25,
   "id": "e19878bb",
   "metadata": {
    "id": "e19878bb"
   },
   "outputs": [],
   "source": [
    "%matplotlib inline\n",
    "\n",
    "import tensorflow as tf\n",
    "\n",
    "import numpy\n",
    "import matplotlib.pyplot as plt\n",
    "from sklearn.model_selection import train_test_split"
   ]
  },
  {
   "cell_type": "code",
   "execution_count": 26,
   "id": "axdHokrZJ_lz",
   "metadata": {
    "colab": {
     "base_uri": "https://localhost:8080/"
    },
    "id": "axdHokrZJ_lz",
    "outputId": "e73a699a-f5d1-4623-c262-fc179455d1c2"
   },
   "outputs": [
    {
     "name": "stdout",
     "output_type": "stream",
     "text": [
      "Cloning into 'ai-science-training-series'...\n",
      "remote: Enumerating objects: 2282, done.\u001b[K\n",
      "remote: Total 2282 (delta 0), reused 0 (delta 0), pack-reused 2282\u001b[K\n",
      "Receiving objects: 100% (2282/2282), 222.42 MiB | 37.39 MiB/s, done.\n",
      "Resolving deltas: 100% (1119/1119), done.\n",
      "Checking out files: 100% (272/272), done.\n",
      "/content/ai-science-training-series/02_neural_networks_python/ai-science-training-series/02_neural_networks_python/ai-science-training-series/02_neural_networks_python\n"
     ]
    }
   ],
   "source": [
    "!git clone https://github.com/argonne-lcf/ai-science-training-series.git\n",
    "%cd ai-science-training-series/02_neural_networks_python/"
   ]
  },
  {
   "cell_type": "code",
   "execution_count": 27,
   "id": "da412dba",
   "metadata": {
    "colab": {
     "base_uri": "https://localhost:8080/"
    },
    "id": "da412dba",
    "outputId": "10ca99f8-fae3-4c4e-8c48-57c1f27f6909"
   },
   "outputs": [
    {
     "name": "stdout",
     "output_type": "stream",
     "text": [
      "(40200, 28, 28)\n",
      "(40200, 784)\n",
      "\n",
      "MNIST data loaded: train: 40200 val: 19800 test: 10000\n",
      "X_train: (40200, 784)\n",
      "y_train: (40200,)\n"
     ]
    }
   ],
   "source": [
    "# repeating the data prep from the previous notebook\n",
    "(x_train, y_train), (x_test, y_test) = tf.keras.datasets.mnist.load_data()\n",
    "# EDIT: splitting training data into train and val because this is better practice than using test data to\n",
    "# choose models/hyperparameters\n",
    "x_train, x_val, y_train, y_val = train_test_split(x_train, y_train, test_size=0.33, random_state=42)\n",
    "\n",
    "x_train = x_train.astype(numpy.float32)\n",
    "# EDIT: adding pre-processing to validation data \n",
    "x_val  = x_val.astype(numpy.float32)\n",
    "x_test  = x_test.astype(numpy.float32)\n",
    "\n",
    "x_train /= 255.\n",
    "x_val  /= 255.\n",
    "x_test  /= 255.\n",
    "\n",
    "print(x_train.shape)\n",
    "x_train = x_train.reshape(x_train.shape[0], numpy.prod(x_train[0,:,:].shape))\n",
    "x_val = x_val.reshape(x_val.shape[0], numpy.prod(x_val[0,:,:].shape))\n",
    "x_test = x_test.reshape(x_test.shape[0], numpy.prod(x_test[0,:,:].shape))\n",
    "\n",
    "print(x_train.shape)\n",
    "y_train = y_train.astype(numpy.int32)\n",
    "y_val  = y_val.astype(numpy.int32)\n",
    "y_test  = y_test.astype(numpy.int32)\n",
    "\n",
    "print()\n",
    "print('MNIST data loaded: train:',len(x_train),'val:',len(x_val), 'test:',len(x_test))\n",
    "print('X_train:', x_train.shape)\n",
    "print('y_train:', y_train.shape)\n",
    "\n",
    "# one-hot encoding:\n",
    "nb_classes = 10\n",
    "y_train_onehot = tf.keras.utils.to_categorical(y_train, nb_classes)\n",
    "y_val_onehot = tf.keras.utils.to_categorical(y_val, nb_classes)\n",
    "y_test_onehot = tf.keras.utils.to_categorical(y_test, nb_classes)"
   ]
  },
  {
   "cell_type": "code",
   "execution_count": 30,
   "id": "Hz_NRyM37Tq-",
   "metadata": {
    "id": "Hz_NRyM37Tq-"
   },
   "outputs": [],
   "source": [
    "# to bring the directory \n",
    "#!pip install git+https://github.com/cs231n/cs231n.github.io"
   ]
  },
  {
   "cell_type": "code",
   "execution_count": 31,
   "id": "a26o14XE2ANp",
   "metadata": {
    "id": "a26o14XE2ANp"
   },
   "outputs": [],
   "source": [
    "#!git clone https://github.com/cs231n/cs231n.github.io"
   ]
  },
  {
   "cell_type": "code",
   "execution_count": 28,
   "id": "302994b1",
   "metadata": {
    "id": "302994b1"
   },
   "outputs": [],
   "source": [
    "# Here we import an implementation of a two-layer neural network \n",
    "# this code is based on pieces of the first assignment from Stanford's CSE231n course, \n",
    "# hosted at https://github.com/cs231n/cs231n.github.io with the MIT license\n",
    "from fc_net import TwoLayerNet"
   ]
  },
  {
   "cell_type": "code",
   "execution_count": 29,
   "id": "5MWLDmKCsSUP",
   "metadata": {
    "colab": {
     "base_uri": "https://localhost:8080/"
    },
    "id": "5MWLDmKCsSUP",
    "outputId": "f5244571-e919-4618-e1b9-0898346d023c"
   },
   "outputs": [
    {
     "name": "stdout",
     "output_type": "stream",
     "text": [
      "Looking in indexes: https://pypi.org/simple, https://us-python.pkg.dev/colab-wheels/public/simple/\n",
      "\u001b[31mERROR: Could not find a version that satisfies the requirement TwoLayerNet (from versions: none)\u001b[0m\n",
      "\u001b[31mERROR: No matching distribution found for TwoLayerNet\u001b[0m\n"
     ]
    }
   ],
   "source": [
    "!pip install TwoLayerNet\n",
    "# first we need to define TwoLayerNet, then clone the 02_neural_networks_python/ \n",
    "# then !pip install  fc_net"
   ]
  },
  {
   "cell_type": "code",
   "execution_count": 31,
   "id": "_WXi_6ZAOKSv",
   "metadata": {
    "colab": {
     "base_uri": "https://localhost:8080/"
    },
    "id": "_WXi_6ZAOKSv",
    "outputId": "74efed3b-2a22-4732-ff24-9d1d1fc36293"
   },
   "outputs": [
    {
     "name": "stdout",
     "output_type": "stream",
     "text": [
      "Cloning into 'ai-science-training-series'...\n",
      "remote: Enumerating objects: 2282, done.\u001b[K\n",
      "remote: Total 2282 (delta 0), reused 0 (delta 0), pack-reused 2282\u001b[K\n",
      "Receiving objects: 100% (2282/2282), 222.42 MiB | 38.58 MiB/s, done.\n",
      "Resolving deltas: 100% (1119/1119), done.\n",
      "Checking out files: 100% (272/272), done.\n",
      "/content/ai-science-training-series/02_neural_networks_python/ai-science-training-series/02_neural_networks_python/ai-science-training-series/02_neural_networks_python/ai-science-training-series/02_neural_networks_python\n"
     ]
    }
   ],
   "source": [
    "!git clone https://github.com/argonne-lcf/ai-science-training-series.git\n",
    "%cd ai-science-training-series/02_neural_networks_python/"
   ]
  },
  {
   "cell_type": "code",
   "execution_count": null,
   "id": "j3SWOrEN6jTc",
   "metadata": {
    "id": "j3SWOrEN6jTc"
   },
   "outputs": [],
   "source": [
    "#conda create -n cs231n python=3.7 \n"
   ]
  },
  {
   "cell_type": "code",
   "execution_count": 32,
   "id": "vPSFDCh0qiEU",
   "metadata": {
    "colab": {
     "base_uri": "https://localhost:8080/"
    },
    "id": "vPSFDCh0qiEU",
    "outputId": "59c2a5fc-1a8f-40a3-afa2-cf9529bb8747"
   },
   "outputs": [
    {
     "name": "stdout",
     "output_type": "stream",
     "text": [
      "Looking in indexes: https://pypi.org/simple, https://us-python.pkg.dev/colab-wheels/public/simple/\n",
      "\u001b[31mERROR: Could not find a version that satisfies the requirement fc_net (from versions: none)\u001b[0m\n",
      "\u001b[31mERROR: No matching distribution found for fc_net\u001b[0m\n"
     ]
    }
   ],
   "source": [
    "!pip install  fc_net"
   ]
  },
  {
   "cell_type": "code",
   "execution_count": 33,
   "id": "c43e3aa5",
   "metadata": {
    "id": "c43e3aa5"
   },
   "outputs": [],
   "source": [
    "# a simple implementation of stochastic gradient descent\n",
    "def sgd(model, gradients, learning_rate):\n",
    "    for p, w in model.params.items():\n",
    "        dw = gradients[p]\n",
    "        new_weights = w - learning_rate * dw\n",
    "        model.params[p] = new_weights"
   ]
  },
  {
   "cell_type": "code",
   "execution_count": 34,
   "id": "c8316228",
   "metadata": {
    "id": "c8316228"
   },
   "outputs": [],
   "source": [
    "# one training step\n",
    "def learn(model, x_train, y_train_onehot, learning_rate):\n",
    "    loss, gradients = model.loss(x_train, y_train_onehot)\n",
    "    sgd(model, gradients, learning_rate)\n",
    "    return loss"
   ]
  },
  {
   "cell_type": "code",
   "execution_count": 35,
   "id": "3faadcdb",
   "metadata": {
    "id": "3faadcdb"
   },
   "outputs": [],
   "source": [
    "def accuracy(model, x, true_values):\n",
    "    scores = model.loss(x)\n",
    "    predictions = numpy.argmax(scores, axis=1)\n",
    "    N = predictions.shape[0]\n",
    "    # EDIT: squeezing true_values from 2d to 1d speeds up this function\n",
    "    true_values_1d = numpy.squeeze(true_values)\n",
    "    acc = (true_values_1d == predictions).sum() / N\n",
    "    return acc"
   ]
  },
  {
   "cell_type": "code",
   "execution_count": 36,
   "id": "170952f0",
   "metadata": {
    "id": "170952f0"
   },
   "outputs": [],
   "source": [
    "# EDIT: decided to track how long each epoch takes\n",
    "import time"
   ]
  },
  {
   "cell_type": "code",
   "execution_count": 37,
   "id": "49754891",
   "metadata": {
    "id": "49754891"
   },
   "outputs": [],
   "source": [
    "# Here's an example training loop using this two-layer model. Can you do better? \n",
    "\n",
    "# EDIT: also track validation data\n",
    "# EDIT: factoring this out into a function to make it easier to compare options\n",
    "def training(learning_rate, batch_size, num_epochs, hidden_dim, weight_scale, x_train, y_train, y_train_onehot, x_val, y_val, y_val_onehot):\n",
    "    num_features = x_train.shape[1] # this is the number of pixels\n",
    "    nb_classes = y_train_onehot.shape[1]\n",
    "    \n",
    "    # The weights are initialized from a normal distribution with standard deviation weight_scale\n",
    "    model = TwoLayerNet(input_dim=num_features, hidden_dim=hidden_dim, num_classes=nb_classes, weight_scale=weight_scale)\n",
    "    \n",
    "    num_examples_train = x_train.shape[0]\n",
    "    num_batches_train = int(num_examples_train / batch_size)\n",
    "    \n",
    "    losses = numpy.zeros((num_batches_train*num_epochs,2)) # 1st column for training data, 2nd for validation data\n",
    "    # EDIT: also track accuracy\n",
    "    accuracies = numpy.zeros((num_batches_train*num_epochs,2)) \n",
    "    \n",
    "    indices_train = numpy.arange(num_examples_train)\n",
    "    num_examples_val = x_val.shape[0]\n",
    "    indices_val = numpy.arange(num_examples_val)\n",
    "\n",
    "    i = 0\n",
    "    for epoch in range(0, num_epochs):\n",
    "        start_epoch = time.time()\n",
    "        # in each epoch, we loop over all of the training examples\n",
    "        for step in range(0, num_batches_train):\n",
    "            # grabbing the next training batch\n",
    "            offset_train = step * batch_size\n",
    "            batch_range_train = range(offset_train, offset_train+batch_size)\n",
    "            x_train_batch = x_train[batch_range_train, :]\n",
    "            # EDIT: keep around non-onehot labels as well for accuracy calculation\n",
    "            y_train_onehot_batch = y_train_onehot[batch_range_train,:]\n",
    "            y_train_batch = y_train[batch_range_train,numpy.newaxis]\n",
    "\n",
    "            # one approach: grab a random validation batch (random offset into number of validation examples)\n",
    "            offset_val = numpy.random.randint(low=0, high=num_examples_val-batch_size)\n",
    "            batch_range_val = range(offset_val, offset_val+batch_size)\n",
    "            x_val_batch = x_val[batch_range_val, :]\n",
    "            y_val_onehot_batch = y_val_onehot[batch_range_val,:]\n",
    "            y_val_batch = y_val[batch_range_val,numpy.newaxis]\n",
    "\n",
    "            # feed the next batch in to do one sgd step\n",
    "            loss_train = learn(model, x_train_batch, y_train_onehot_batch, learning_rate)\n",
    "\n",
    "            # check training & validation loss & accuracy\n",
    "            losses[i,0] = loss_train\n",
    "            \n",
    "            # could save time by commenting out the next three lines and only tracking at the epoch level\n",
    "            accuracies[i,0] = accuracy(model, x_train_batch, y_train_batch)\n",
    "            losses[i,1], _ = model.loss(x_val_batch, y_val_onehot_batch)\n",
    "            accuracies[i,1] = accuracy(model, x_val_batch, y_val_batch)\n",
    "            i += 1\n",
    "\n",
    "        # slower, so we're only doing this once per epoch: checking accuracy on all of the data at once\n",
    "        acc_train = accuracy(model, x_train, y_train)\n",
    "        acc_val = accuracy(model, x_val, y_val)\n",
    "        \n",
    "        # reshuffle the data so that we get a new set of batches\n",
    "        numpy.random.shuffle(indices_train)\n",
    "        x_train = x_train[indices_train,:]\n",
    "        y_train = y_train[indices_train] # keep this shuffled the same way for use in accuracy calculation\n",
    "        y_train_onehot = y_train_onehot[indices_train,:]\n",
    "\n",
    "        numpy.random.shuffle(indices_val)\n",
    "        x_val = x_val[indices_val,:]\n",
    "        y_val = y_val[indices_val] \n",
    "        y_val_onehot = y_val_onehot[indices_val,:]\n",
    "        end_epoch = time.time()\n",
    "        time_this_epoch = end_epoch - start_epoch\n",
    "        print(\"epoch %d took %.1f seconds, training loss %.5f (last batch), training accuracy %.3f, validation accuracy %.3f\" % (epoch, time_this_epoch, loss_train, acc_train, acc_val))\n",
    "    return losses, accuracies, model\n",
    "\n",
    "        "
   ]
  },
  {
   "cell_type": "code",
   "execution_count": 38,
   "id": "c0a91cf3",
   "metadata": {
    "colab": {
     "base_uri": "https://localhost:8080/",
     "height": 462
    },
    "id": "c0a91cf3",
    "outputId": "c46e4264-1bbb-4e05-80a4-3eab4bfc9819"
   },
   "outputs": [
    {
     "name": "stdout",
     "output_type": "stream",
     "text": [
      "epoch 0 took 7.1 seconds, training loss 2.30249 (last batch), training accuracy 0.096, validation accuracy 0.098\n",
      "epoch 1 took 8.2 seconds, training loss 2.30139 (last batch), training accuracy 0.116, validation accuracy 0.119\n",
      "epoch 2 took 7.7 seconds, training loss 2.30041 (last batch), training accuracy 0.141, validation accuracy 0.146\n",
      "epoch 3 took 7.0 seconds, training loss 2.29924 (last batch), training accuracy 0.170, validation accuracy 0.174\n",
      "epoch 4 took 7.1 seconds, training loss 2.29822 (last batch), training accuracy 0.203, validation accuracy 0.206\n",
      "epoch 5 took 6.9 seconds, training loss 2.29707 (last batch), training accuracy 0.239, validation accuracy 0.243\n",
      "epoch 6 took 10.2 seconds, training loss 2.29602 (last batch), training accuracy 0.276, validation accuracy 0.279\n",
      "epoch 7 took 9.9 seconds, training loss 2.29487 (last batch), training accuracy 0.314, validation accuracy 0.314\n",
      "epoch 8 took 8.3 seconds, training loss 2.29384 (last batch), training accuracy 0.349, validation accuracy 0.351\n",
      "epoch 9 took 9.6 seconds, training loss 2.29286 (last batch), training accuracy 0.382, validation accuracy 0.383\n"
     ]
    },
    {
     "data": {
      "text/plain": [
       "[<matplotlib.lines.Line2D at 0x7f9683b1ef10>]"
      ]
     },
     "execution_count": 38,
     "metadata": {},
     "output_type": "execute_result"
    },
    {
     "data": {
      "image/png": "[encoded data removed]",
      "text/plain": [
       "<Figure size 432x288 with 2 Axes>"
      ]
     },
     "metadata": {
      "needs_background": "light"
     },
     "output_type": "display_data"
    }
   ],
   "source": [
    "# these are the hyperparameters we had in class\n",
    "learning_rate = 0.01  \n",
    "batch_size = 10000\n",
    "num_epochs = 10\n",
    "hidden_dim = 300\n",
    "weight_scale = .01\n",
    "losses, accuracies, model = training(learning_rate, batch_size, num_epochs, hidden_dim, weight_scale, x_train, y_train, y_train_onehot, x_val, y_val, y_val_onehot)\n",
    "\n",
    "# EDIT: plot training & val, loss & accuracy\n",
    "plt.figure()\n",
    "plt.subplot(2,1,1)\n",
    "plt.plot(losses[:,0])\n",
    "plt.plot(losses[:,1])\n",
    "plt.legend([\"train\", \"val\"])\n",
    "\n",
    "plt.subplot(2,1,2)\n",
    "plt.plot(accuracies[:,0])\n",
    "plt.plot(accuracies[:,1])"
   ]
  },
  {
   "cell_type": "markdown",
   "id": "a2dd5728",
   "metadata": {
    "id": "a2dd5728"
   },
   "source": [
    "# Homework: improve the accuracy of this model. "
   ]
  },
  {
   "cell_type": "markdown",
   "id": "faaf0515",
   "metadata": {
    "id": "faaf0515"
   },
   "source": [
    "Update this notebook so that the accuracy is improved. How high can you get it? You could change things directly in the notebook, such as increasing the number of epochs, changing the learning weight, changing the width of the hidden layer, etc. If you're more ambitious, you could also try changing the model definition itself by checking out the associated Python files. For example, you could add more layers to the network. The current notebook has a training accuracy of about 43%, but will vary with randomness."
   ]
  },
  {
   "cell_type": "code",
   "execution_count": 40,
   "id": "5edc9053",
   "metadata": {
    "colab": {
     "base_uri": "https://localhost:8080/",
     "height": 748
    },
    "id": "5edc9053",
    "outputId": "a48db732-40c4-450a-c23e-425e49164886"
   },
   "outputs": [
    {
     "name": "stdout",
     "output_type": "stream",
     "text": [
      "0.03210479558034334\n",
      "epoch 0 took 34.8 seconds, training loss 0.69968 (last batch), training accuracy 0.846, validation accuracy 0.846\n",
      "epoch 1 took 33.0 seconds, training loss 0.52459 (last batch), training accuracy 0.877, validation accuracy 0.875\n",
      "epoch 2 took 34.0 seconds, training loss 0.41054 (last batch), training accuracy 0.889, validation accuracy 0.891\n",
      "epoch 3 took 34.1 seconds, training loss 0.37489 (last batch), training accuracy 0.897, validation accuracy 0.899\n",
      "epoch 4 took 33.2 seconds, training loss 0.34379 (last batch), training accuracy 0.902, validation accuracy 0.905\n",
      "epoch 5 took 34.6 seconds, training loss 0.35472 (last batch), training accuracy 0.907, validation accuracy 0.909\n",
      "epoch 6 took 34.1 seconds, training loss 0.36928 (last batch), training accuracy 0.910, validation accuracy 0.912\n",
      "epoch 7 took 33.6 seconds, training loss 0.31624 (last batch), training accuracy 0.913, validation accuracy 0.914\n",
      "epoch 8 took 34.2 seconds, training loss 0.27110 (last batch), training accuracy 0.916, validation accuracy 0.917\n",
      "epoch 9 took 33.0 seconds, training loss 0.28923 (last batch), training accuracy 0.918, validation accuracy 0.920\n",
      "epoch 10 took 34.3 seconds, training loss 0.26490 (last batch), training accuracy 0.921, validation accuracy 0.922\n",
      "epoch 11 took 34.5 seconds, training loss 0.28064 (last batch), training accuracy 0.922, validation accuracy 0.923\n",
      "epoch 12 took 32.9 seconds, training loss 0.26420 (last batch), training accuracy 0.926, validation accuracy 0.926\n",
      "epoch 13 took 34.3 seconds, training loss 0.24117 (last batch), training accuracy 0.927, validation accuracy 0.927\n",
      "epoch 14 took 33.1 seconds, training loss 0.26890 (last batch), training accuracy 0.929, validation accuracy 0.929\n",
      "epoch 15 took 34.6 seconds, training loss 0.24427 (last batch), training accuracy 0.931, validation accuracy 0.930\n",
      "epoch 16 took 34.7 seconds, training loss 0.24948 (last batch), training accuracy 0.932, validation accuracy 0.932\n",
      "epoch 17 took 33.2 seconds, training loss 0.25085 (last batch), training accuracy 0.934, validation accuracy 0.933\n",
      "epoch 18 took 34.3 seconds, training loss 0.23482 (last batch), training accuracy 0.936, validation accuracy 0.934\n",
      "epoch 19 took 34.7 seconds, training loss 0.24192 (last batch), training accuracy 0.938, validation accuracy 0.935\n",
      "epoch 20 took 33.0 seconds, training loss 0.20768 (last batch), training accuracy 0.938, validation accuracy 0.936\n",
      "epoch 21 took 34.7 seconds, training loss 0.21961 (last batch), training accuracy 0.940, validation accuracy 0.937\n",
      "epoch 22 took 33.3 seconds, training loss 0.22263 (last batch), training accuracy 0.941, validation accuracy 0.939\n",
      "epoch 23 took 34.3 seconds, training loss 0.19058 (last batch), training accuracy 0.942, validation accuracy 0.939\n",
      "epoch 24 took 34.3 seconds, training loss 0.23976 (last batch), training accuracy 0.943, validation accuracy 0.940\n"
     ]
    },
    {
     "data": {
      "text/plain": [
       "[<matplotlib.lines.Line2D at 0x7f96834a3ed0>]"
      ]
     },
     "execution_count": 40,
     "metadata": {},
     "output_type": "execute_result"
    },
    {
     "data": {
      "image/png": "[encoded data removed]",
      "text/plain": [
       "<Figure size 432x288 with 2 Axes>"
      ]
     },
     "metadata": {
      "needs_background": "light"
     },
     "output_type": "display_data"
    }
   ],
   "source": [
    "# Here's an example network that is much more accurate. I experimented with each hyperparameter one at a time\n",
    "# The training took about 11 seconds per epoch on my laptop, and the final validation accuracy was 94%\n",
    "# It's much slower on ThetaGPU's single-gpu queue, since it doesn't take advantage of a GPU and is stuck using\n",
    "# a portion of one of the node's CPUs. \n",
    "# (With some effort, you can convert everything to CuPy instead of NumPy and then it runs on the GPU)\n",
    "# If you don't have your own computer to run on, you might want to use Google Colab. \n",
    "learning_rate = 0.1  \n",
    "batch_size = 1200\n",
    "num_epochs = 25\n",
    "hidden_dim = 1600\n",
    "# Try Xavier initialization, although need to use same scaling for both layers, so averaging\n",
    "# https://keras.io/api/layers/initializers/\n",
    "size_input = x_train.shape[1]\n",
    "weight_scale1 = numpy.sqrt(2./(size_input+hidden_dim))\n",
    "weight_scale2 = numpy.sqrt(2./(hidden_dim+nb_classes))\n",
    "weight_scale = (weight_scale1 + weight_scale2)/2\n",
    "print(weight_scale)\n",
    "losses, accuracies, model = training(learning_rate, batch_size, num_epochs, hidden_dim, weight_scale, x_train, y_train, y_train_onehot, x_val, y_val, y_val_onehot)\n",
    "\n",
    "plt.figure()\n",
    "plt.subplot(2,1,1)\n",
    "plt.plot(losses[:,0])\n",
    "plt.plot(losses[:,1])\n",
    "plt.legend([\"train\", \"val\"])\n",
    "\n",
    "plt.subplot(2,1,2)\n",
    "plt.plot(accuracies[:,0])\n",
    "plt.plot(accuracies[:,1])"
   ]
  },
  {
   "cell_type": "code",
   "execution_count": 43,
   "id": "cFnTTLlJcHdy",
   "metadata": {
    "colab": {
     "base_uri": "https://localhost:8080/",
     "height": 838
    },
    "id": "cFnTTLlJcHdy",
    "outputId": "8be31bff-1ded-47db-8eff-d1730622467c"
   },
   "outputs": [
    {
     "name": "stdout",
     "output_type": "stream",
     "text": [
      "0.03210479558034334\n",
      "epoch 0 took 40.9 seconds, training loss 0.64963 (last batch), training accuracy 0.855, validation accuracy 0.853\n",
      "epoch 1 took 39.3 seconds, training loss 0.48115 (last batch), training accuracy 0.884, validation accuracy 0.885\n",
      "epoch 2 took 39.7 seconds, training loss 0.45350 (last batch), training accuracy 0.894, validation accuracy 0.897\n",
      "epoch 3 took 38.5 seconds, training loss 0.35642 (last batch), training accuracy 0.902, validation accuracy 0.904\n",
      "epoch 4 took 35.3 seconds, training loss 0.34383 (last batch), training accuracy 0.906, validation accuracy 0.909\n",
      "epoch 5 took 37.7 seconds, training loss 0.34956 (last batch), training accuracy 0.910, validation accuracy 0.913\n",
      "epoch 6 took 37.0 seconds, training loss 0.37133 (last batch), training accuracy 0.914, validation accuracy 0.916\n",
      "epoch 7 took 32.8 seconds, training loss 0.28671 (last batch), training accuracy 0.918, validation accuracy 0.919\n",
      "epoch 8 took 33.8 seconds, training loss 0.26246 (last batch), training accuracy 0.921, validation accuracy 0.922\n",
      "epoch 9 took 34.3 seconds, training loss 0.26094 (last batch), training accuracy 0.923, validation accuracy 0.924\n",
      "epoch 10 took 32.7 seconds, training loss 0.30436 (last batch), training accuracy 0.925, validation accuracy 0.924\n",
      "epoch 11 took 34.4 seconds, training loss 0.26445 (last batch), training accuracy 0.929, validation accuracy 0.928\n",
      "epoch 12 took 34.3 seconds, training loss 0.26833 (last batch), training accuracy 0.930, validation accuracy 0.929\n",
      "epoch 13 took 32.7 seconds, training loss 0.20857 (last batch), training accuracy 0.932, validation accuracy 0.931\n",
      "epoch 14 took 34.2 seconds, training loss 0.24425 (last batch), training accuracy 0.934, validation accuracy 0.932\n",
      "epoch 15 took 34.4 seconds, training loss 0.23453 (last batch), training accuracy 0.935, validation accuracy 0.933\n",
      "epoch 16 took 32.9 seconds, training loss 0.20037 (last batch), training accuracy 0.938, validation accuracy 0.936\n",
      "epoch 17 took 34.1 seconds, training loss 0.19766 (last batch), training accuracy 0.939, validation accuracy 0.937\n",
      "epoch 18 took 32.8 seconds, training loss 0.22843 (last batch), training accuracy 0.940, validation accuracy 0.938\n",
      "epoch 19 took 34.0 seconds, training loss 0.23396 (last batch), training accuracy 0.941, validation accuracy 0.939\n",
      "epoch 20 took 34.3 seconds, training loss 0.21941 (last batch), training accuracy 0.943, validation accuracy 0.940\n",
      "epoch 21 took 33.1 seconds, training loss 0.18920 (last batch), training accuracy 0.944, validation accuracy 0.942\n",
      "epoch 22 took 33.7 seconds, training loss 0.18196 (last batch), training accuracy 0.946, validation accuracy 0.942\n",
      "epoch 23 took 33.8 seconds, training loss 0.22115 (last batch), training accuracy 0.946, validation accuracy 0.944\n",
      "epoch 24 took 32.2 seconds, training loss 0.17737 (last batch), training accuracy 0.948, validation accuracy 0.945\n",
      "epoch 25 took 33.5 seconds, training loss 0.20099 (last batch), training accuracy 0.949, validation accuracy 0.946\n",
      "epoch 26 took 33.7 seconds, training loss 0.21116 (last batch), training accuracy 0.950, validation accuracy 0.947\n",
      "epoch 27 took 32.3 seconds, training loss 0.19955 (last batch), training accuracy 0.951, validation accuracy 0.947\n",
      "epoch 28 took 33.7 seconds, training loss 0.19332 (last batch), training accuracy 0.953, validation accuracy 0.948\n",
      "epoch 29 took 33.5 seconds, training loss 0.16579 (last batch), training accuracy 0.953, validation accuracy 0.949\n"
     ]
    },
    {
     "data": {
      "text/plain": [
       "[<matplotlib.lines.Line2D at 0x7f96830f7b90>]"
      ]
     },
     "execution_count": 43,
     "metadata": {},
     "output_type": "execute_result"
    },
    {
     "data": {
      "image/png": "[encoded data removed]",
      "text/plain": [
       "<Figure size 432x288 with 2 Axes>"
      ]
     },
     "metadata": {
      "needs_background": "light"
     },
     "output_type": "display_data"
    }
   ],
   "source": [
    "\n",
    "learning_rate = 0.1  \n",
    "batch_size = 1000\n",
    "num_epochs = 30\n",
    "hidden_dim = 1600\n",
    "# Try Xavier initialization, although need to use same scaling for both layers, so averaging\n",
    "# https://keras.io/api/layers/initializers/\n",
    "size_input = x_train.shape[1]\n",
    "weight_scale1 = numpy.sqrt(2./(size_input+hidden_dim))\n",
    "weight_scale2 = numpy.sqrt(2./(hidden_dim+nb_classes))\n",
    "weight_scale = (weight_scale1 + weight_scale2)/2\n",
    "print(weight_scale)\n",
    "losses, accuracies, model = training(learning_rate, batch_size, num_epochs, hidden_dim, weight_scale, x_train, y_train, y_train_onehot, x_val, y_val, y_val_onehot)\n",
    "\n",
    "plt.figure()\n",
    "plt.subplot(2,1,1)\n",
    "plt.plot(losses[:,0])\n",
    "plt.plot(losses[:,1])\n",
    "plt.legend([\"train\", \"val\"])\n",
    "\n",
    "plt.subplot(2,1,2)\n",
    "plt.plot(accuracies[:,0])\n",
    "plt.plot(accuracies[:,1])"
   ]
  },
  {
   "cell_type": "markdown",
   "id": "RFHvXnDElO3d",
   "metadata": {
    "id": "RFHvXnDElO3d"
   },
   "source": [
    "# Comment: \n",
    "\n",
    "Using the Google Colab and the following hyperparameters (learning_rate = 0.1, batch_size = 1000\n",
    "num_epochs = 30, hidden_dim = 1600) final training accuracy 0.952 and validation accuracy 94.9%."
   ]
  },
  {
   "cell_type": "code",
   "execution_count": 41,
   "id": "ozuaiAORXiNQ",
   "metadata": {
    "colab": {
     "base_uri": "https://localhost:8080/",
     "height": 838
    },
    "id": "ozuaiAORXiNQ",
    "outputId": "b6e10584-fd6f-4f05-a778-6ae4cd2f9c1f"
   },
   "outputs": [
    {
     "name": "stdout",
     "output_type": "stream",
     "text": [
      "0.03210479558034334\n",
      "epoch 0 took 35.8 seconds, training loss 1.87101 (last batch), training accuracy 0.613, validation accuracy 0.612\n",
      "epoch 1 took 34.6 seconds, training loss 1.53619 (last batch), training accuracy 0.741, validation accuracy 0.735\n",
      "epoch 2 took 35.6 seconds, training loss 1.26738 (last batch), training accuracy 0.783, validation accuracy 0.781\n",
      "epoch 3 took 35.4 seconds, training loss 1.06739 (last batch), training accuracy 0.806, validation accuracy 0.804\n",
      "epoch 4 took 34.2 seconds, training loss 0.97795 (last batch), training accuracy 0.820, validation accuracy 0.817\n",
      "epoch 5 took 35.4 seconds, training loss 0.85244 (last batch), training accuracy 0.831, validation accuracy 0.828\n",
      "epoch 6 took 35.3 seconds, training loss 0.77938 (last batch), training accuracy 0.839, validation accuracy 0.837\n",
      "epoch 7 took 34.0 seconds, training loss 0.75980 (last batch), training accuracy 0.846, validation accuracy 0.844\n",
      "epoch 8 took 35.4 seconds, training loss 0.70630 (last batch), training accuracy 0.851, validation accuracy 0.850\n",
      "epoch 9 took 35.4 seconds, training loss 0.66553 (last batch), training accuracy 0.856, validation accuracy 0.855\n",
      "epoch 10 took 33.7 seconds, training loss 0.60989 (last batch), training accuracy 0.860, validation accuracy 0.860\n",
      "epoch 11 took 35.0 seconds, training loss 0.57665 (last batch), training accuracy 0.864, validation accuracy 0.863\n",
      "epoch 12 took 35.0 seconds, training loss 0.54742 (last batch), training accuracy 0.868, validation accuracy 0.866\n",
      "epoch 13 took 33.9 seconds, training loss 0.54894 (last batch), training accuracy 0.870, validation accuracy 0.869\n",
      "epoch 14 took 35.2 seconds, training loss 0.54727 (last batch), training accuracy 0.873, validation accuracy 0.873\n",
      "epoch 15 took 34.9 seconds, training loss 0.54051 (last batch), training accuracy 0.875, validation accuracy 0.875\n",
      "epoch 16 took 34.4 seconds, training loss 0.50450 (last batch), training accuracy 0.877, validation accuracy 0.878\n",
      "epoch 17 took 34.4 seconds, training loss 0.48901 (last batch), training accuracy 0.879, validation accuracy 0.880\n",
      "epoch 18 took 35.0 seconds, training loss 0.47672 (last batch), training accuracy 0.881, validation accuracy 0.882\n",
      "epoch 19 took 33.8 seconds, training loss 0.46342 (last batch), training accuracy 0.883, validation accuracy 0.883\n",
      "epoch 20 took 34.7 seconds, training loss 0.46336 (last batch), training accuracy 0.884, validation accuracy 0.884\n",
      "epoch 21 took 35.1 seconds, training loss 0.44354 (last batch), training accuracy 0.885, validation accuracy 0.886\n",
      "epoch 22 took 33.7 seconds, training loss 0.46457 (last batch), training accuracy 0.887, validation accuracy 0.887\n",
      "epoch 23 took 35.5 seconds, training loss 0.44345 (last batch), training accuracy 0.888, validation accuracy 0.889\n",
      "epoch 24 took 34.6 seconds, training loss 0.35299 (last batch), training accuracy 0.889, validation accuracy 0.890\n",
      "epoch 25 took 34.4 seconds, training loss 0.39638 (last batch), training accuracy 0.891, validation accuracy 0.892\n",
      "epoch 26 took 33.9 seconds, training loss 0.45098 (last batch), training accuracy 0.892, validation accuracy 0.892\n",
      "epoch 27 took 34.5 seconds, training loss 0.41899 (last batch), training accuracy 0.892, validation accuracy 0.893\n",
      "epoch 28 took 34.2 seconds, training loss 0.41844 (last batch), training accuracy 0.893, validation accuracy 0.894\n",
      "epoch 29 took 33.9 seconds, training loss 0.37450 (last batch), training accuracy 0.894, validation accuracy 0.895\n"
     ]
    },
    {
     "data": {
      "text/plain": [
       "[<matplotlib.lines.Line2D at 0x7f96833a89d0>]"
      ]
     },
     "execution_count": 41,
     "metadata": {},
     "output_type": "execute_result"
    },
    {
     "data": {
      "image/png": "[encoded data removed]",
      "text/plain": [
       "<Figure size 432x288 with 2 Axes>"
      ]
     },
     "metadata": {
      "needs_background": "light"
     },
     "output_type": "display_data"
    }
   ],
   "source": [
    "learning_rate = 0.01  \n",
    "batch_size = 1000\n",
    "num_epochs = 30\n",
    "hidden_dim = 1600\n",
    "# Try Xavier initialization, although need to use same scaling for both layers, so averaging\n",
    "# https://keras.io/api/layers/initializers/\n",
    "size_input = x_train.shape[1]\n",
    "weight_scale1 = numpy.sqrt(2./(size_input+hidden_dim))\n",
    "weight_scale2 = numpy.sqrt(2./(hidden_dim+nb_classes))\n",
    "weight_scale = (weight_scale1 + weight_scale2)/2\n",
    "print(weight_scale)\n",
    "losses, accuracies, model = training(learning_rate, batch_size, num_epochs, hidden_dim, weight_scale, x_train, y_train, y_train_onehot, x_val, y_val, y_val_onehot)\n",
    "\n",
    "plt.figure()\n",
    "plt.subplot(2,1,1)\n",
    "plt.plot(losses[:,0])\n",
    "plt.plot(losses[:,1])\n",
    "plt.legend([\"train\", \"val\"])\n",
    "\n",
    "plt.subplot(2,1,2)\n",
    "plt.plot(accuracies[:,0])\n",
    "plt.plot(accuracies[:,1])"
   ]
  },
  {
   "cell_type": "markdown",
   "id": "AMu7SBOAk_HA",
   "metadata": {
    "id": "AMu7SBOAk_HA"
   },
   "source": [
    "# Comment: \n",
    "\n",
    "Using the Google Colab and the following hyperparameters (learning_rate = 0.01, batch_size = 1000\n",
    "num_epochs = 30, hidden_dim = 1600) final training accuracy is 89.4%, and the validation accuracy is 89.5%"
   ]
  },
  {
   "cell_type": "code",
   "execution_count": 39,
   "id": "dacaeba2",
   "metadata": {
    "colab": {
     "base_uri": "https://localhost:8080/",
     "height": 838
    },
    "id": "dacaeba2",
    "outputId": "9369e771-e0da-4893-e951-f652b52f88cb"
   },
   "outputs": [
    {
     "name": "stdout",
     "output_type": "stream",
     "text": [
      "0.03210479558034334\n",
      "epoch 0 took 36.0 seconds, training loss 2.28211 (last batch), training accuracy 0.149, validation accuracy 0.151\n",
      "epoch 1 took 34.2 seconds, training loss 2.23592 (last batch), training accuracy 0.220, validation accuracy 0.220\n",
      "epoch 2 took 34.6 seconds, training loss 2.16816 (last batch), training accuracy 0.312, validation accuracy 0.311\n",
      "epoch 3 took 34.7 seconds, training loss 2.12494 (last batch), training accuracy 0.395, validation accuracy 0.397\n",
      "epoch 4 took 33.5 seconds, training loss 2.05825 (last batch), training accuracy 0.465, validation accuracy 0.467\n",
      "epoch 5 took 34.6 seconds, training loss 2.02490 (last batch), training accuracy 0.519, validation accuracy 0.518\n",
      "epoch 6 took 33.2 seconds, training loss 1.98461 (last batch), training accuracy 0.560, validation accuracy 0.558\n",
      "epoch 7 took 34.6 seconds, training loss 1.94473 (last batch), training accuracy 0.591, validation accuracy 0.589\n",
      "epoch 8 took 34.3 seconds, training loss 1.90029 (last batch), training accuracy 0.618, validation accuracy 0.615\n",
      "epoch 9 took 33.1 seconds, training loss 1.86520 (last batch), training accuracy 0.641, validation accuracy 0.638\n",
      "epoch 10 took 34.3 seconds, training loss 1.82534 (last batch), training accuracy 0.658, validation accuracy 0.656\n",
      "epoch 11 took 33.7 seconds, training loss 1.78668 (last batch), training accuracy 0.674, validation accuracy 0.672\n",
      "epoch 12 took 33.5 seconds, training loss 1.76329 (last batch), training accuracy 0.689, validation accuracy 0.685\n",
      "epoch 13 took 34.7 seconds, training loss 1.71348 (last batch), training accuracy 0.701, validation accuracy 0.698\n",
      "epoch 14 took 33.2 seconds, training loss 1.68515 (last batch), training accuracy 0.711, validation accuracy 0.709\n",
      "epoch 15 took 34.6 seconds, training loss 1.64960 (last batch), training accuracy 0.720, validation accuracy 0.718\n",
      "epoch 16 took 34.3 seconds, training loss 1.62820 (last batch), training accuracy 0.728, validation accuracy 0.727\n",
      "epoch 17 took 32.9 seconds, training loss 1.59003 (last batch), training accuracy 0.736, validation accuracy 0.733\n",
      "epoch 18 took 34.4 seconds, training loss 1.54108 (last batch), training accuracy 0.743, validation accuracy 0.740\n",
      "epoch 19 took 33.3 seconds, training loss 1.52880 (last batch), training accuracy 0.749, validation accuracy 0.746\n",
      "epoch 20 took 34.1 seconds, training loss 1.48814 (last batch), training accuracy 0.754, validation accuracy 0.751\n",
      "epoch 21 took 34.2 seconds, training loss 1.48359 (last batch), training accuracy 0.759, validation accuracy 0.756\n",
      "epoch 22 took 32.9 seconds, training loss 1.43730 (last batch), training accuracy 0.764, validation accuracy 0.761\n",
      "epoch 23 took 34.3 seconds, training loss 1.42595 (last batch), training accuracy 0.769, validation accuracy 0.766\n",
      "epoch 24 took 33.2 seconds, training loss 1.38037 (last batch), training accuracy 0.773, validation accuracy 0.770\n",
      "epoch 25 took 34.6 seconds, training loss 1.36975 (last batch), training accuracy 0.776, validation accuracy 0.774\n",
      "epoch 26 took 35.2 seconds, training loss 1.36361 (last batch), training accuracy 0.779, validation accuracy 0.777\n",
      "epoch 27 took 33.0 seconds, training loss 1.32774 (last batch), training accuracy 0.782, validation accuracy 0.781\n",
      "epoch 28 took 34.6 seconds, training loss 1.28112 (last batch), training accuracy 0.785, validation accuracy 0.784\n",
      "epoch 29 took 33.3 seconds, training loss 1.26843 (last batch), training accuracy 0.788, validation accuracy 0.787\n"
     ]
    },
    {
     "data": {
      "text/plain": [
       "[<matplotlib.lines.Line2D at 0x7f96835a4590>]"
      ]
     },
     "execution_count": 39,
     "metadata": {},
     "output_type": "execute_result"
    },
    {
     "data": {
      "image/png": "[encoded data removed]",
      "text/plain": [
       "<Figure size 432x288 with 2 Axes>"
      ]
     },
     "metadata": {
      "needs_background": "light"
     },
     "output_type": "display_data"
    }
   ],
   "source": [
    "# Here's an example network that is much more accurate. I experimented with each hyperparameter one at a time\n",
    "# The training took about 11 seconds per epoch on my laptop, and the final validation accuracy was 94%\n",
    "# It's much slower on ThetaGPU's single-gpu queue, since it doesn't take advantage of a GPU and is stuck using\n",
    "# a portion of one of the node's CPUs. \n",
    "# (With some effort, you can convert everything to CuPy instead of NumPy and then it runs on the GPU)\n",
    "# If you don't have your own computer to run on, you might want to use Google Colab. \n",
    "learning_rate = 0.001  \n",
    "batch_size = 1000\n",
    "num_epochs = 30\n",
    "hidden_dim = 1600\n",
    "# Try Xavier initialization, although need to use same scaling for both layers, so averaging\n",
    "# https://keras.io/api/layers/initializers/\n",
    "size_input = x_train.shape[1]\n",
    "weight_scale1 = numpy.sqrt(2./(size_input+hidden_dim))\n",
    "weight_scale2 = numpy.sqrt(2./(hidden_dim+nb_classes))\n",
    "weight_scale = (weight_scale1 + weight_scale2)/2\n",
    "print(weight_scale)\n",
    "losses, accuracies, model = training(learning_rate, batch_size, num_epochs, hidden_dim, weight_scale, x_train, y_train, y_train_onehot, x_val, y_val, y_val_onehot)\n",
    "\n",
    "plt.figure()\n",
    "plt.subplot(2,1,1)\n",
    "plt.plot(losses[:,0])\n",
    "plt.plot(losses[:,1])\n",
    "plt.legend([\"train\", \"val\"])\n",
    "\n",
    "plt.subplot(2,1,2)\n",
    "plt.plot(accuracies[:,0])\n",
    "plt.plot(accuracies[:,1])"
   ]
  },
  {
   "cell_type": "markdown",
   "id": "T18F-JpHlhkn",
   "metadata": {
    "id": "T18F-JpHlhkn"
   },
   "source": [
    "# Comment: \n",
    "\n",
    "Using the Google Colab and the following hyperparameters (learning_rate = 0.01, batch_size = 1000\n",
    "num_epochs = 30, hidden_dim = 1600) final training accuracy is 78.8%, and the validation accuracy is 78.7%"
   ]
  },
  {
   "cell_type": "markdown",
   "id": "GfxjiXm2fQiM",
   "metadata": {
    "id": "GfxjiXm2fQiM"
   },
   "source": [
    "# Conclusion: \n",
    "\n",
    "We observed that learning_rate = 0.1  gives us good training and validation accuracy compared to the learning rates: 0.1, 0.01, and 0.001. Here we have used batch_size = 1000, num_epochs = 30, and the hidden_dim = 1600. Still, we can imporve the accuracy by changing the hyperparameters batch_size, num_epochs,, and the hidden_dim. "
   ]
  }
 ],
 "metadata": {
  "accelerator": "GPU",
  "colab": {
   "collapsed_sections": [],
   "provenance": []
  },
  "gpuClass": "standard",
  "kernelspec": {
   "display_name": "Python 3 (ipykernel)",
   "language": "python",
   "name": "python3"
  },
  "language_info": {
   "codemirror_mode": {
    "name": "ipython",
    "version": 3
   },
   "file_extension": ".py",
   "mimetype": "text/x-python",
   "name": "python",
   "nbconvert_exporter": "python",
   "pygments_lexer": "ipython3",
   "version": "3.7.4"
  }
 },
 "nbformat": 4,
 "nbformat_minor": 5
}
